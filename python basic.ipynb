{
 "cells": [
  {
   "cell_type": "code",
   "execution_count": 1,
   "id": "9cdea979-51ca-4d49-bbc9-39c1999c92b9",
   "metadata": {},
   "outputs": [
    {
     "data": {
      "text/plain": [
       "2"
      ]
     },
     "execution_count": 1,
     "metadata": {},
     "output_type": "execute_result"
    }
   ],
   "source": [
    "1 + 1"
   ]
  },
  {
   "cell_type": "code",
   "execution_count": 2,
   "id": "c2b359a0-0324-435f-98c9-599473e030c2",
   "metadata": {},
   "outputs": [
    {
     "data": {
      "text/plain": [
       "13"
      ]
     },
     "execution_count": 2,
     "metadata": {},
     "output_type": "execute_result"
    }
   ],
   "source": [
    "5 +8"
   ]
  },
  {
   "cell_type": "code",
   "execution_count": 3,
   "id": "8a86d1a6-78a0-4481-a9eb-b4235c2c218e",
   "metadata": {},
   "outputs": [],
   "source": [
    "a = 1"
   ]
  },
  {
   "cell_type": "code",
   "execution_count": 4,
   "id": "43dd6f48-1838-416a-863a-94f05aab65fc",
   "metadata": {},
   "outputs": [
    {
     "data": {
      "text/plain": [
       "1"
      ]
     },
     "execution_count": 4,
     "metadata": {},
     "output_type": "execute_result"
    }
   ],
   "source": [
    "a"
   ]
  },
  {
   "cell_type": "code",
   "execution_count": 5,
   "id": "dc02a690-01ba-4174-b6dd-b0acfe613942",
   "metadata": {},
   "outputs": [
    {
     "data": {
      "text/plain": [
       "int"
      ]
     },
     "execution_count": 5,
     "metadata": {},
     "output_type": "execute_result"
    }
   ],
   "source": [
    "type(a)"
   ]
  },
  {
   "cell_type": "code",
   "execution_count": 6,
   "id": "049f245a-cee5-4b1f-afc9-7572c7bc8c9f",
   "metadata": {},
   "outputs": [],
   "source": [
    "b = \"fiza\""
   ]
  },
  {
   "cell_type": "code",
   "execution_count": 7,
   "id": "77ff90b5-ebd8-445a-9a1d-2910350a6a87",
   "metadata": {},
   "outputs": [
    {
     "data": {
      "text/plain": [
       "str"
      ]
     },
     "execution_count": 7,
     "metadata": {},
     "output_type": "execute_result"
    }
   ],
   "source": [
    "type(b)"
   ]
  },
  {
   "cell_type": "code",
   "execution_count": 8,
   "id": "02bb1b30-b2c3-4fcf-889f-0e87f245d0ce",
   "metadata": {},
   "outputs": [],
   "source": [
    "c = 45.1454"
   ]
  },
  {
   "cell_type": "code",
   "execution_count": 9,
   "id": "01df342d-60ae-4a93-bd4e-3044184acb50",
   "metadata": {},
   "outputs": [
    {
     "data": {
      "text/plain": [
       "float"
      ]
     },
     "execution_count": 9,
     "metadata": {},
     "output_type": "execute_result"
    }
   ],
   "source": [
    "type(c)"
   ]
  },
  {
   "cell_type": "code",
   "execution_count": 10,
   "id": "f71e5165-affe-42fb-a44a-03bba667f444",
   "metadata": {},
   "outputs": [],
   "source": [
    "fiza = 8252"
   ]
  },
  {
   "cell_type": "code",
   "execution_count": 11,
   "id": "e452d15c-5427-4024-ab5f-8148a3f93123",
   "metadata": {},
   "outputs": [
    {
     "data": {
      "text/plain": [
       "8252"
      ]
     },
     "execution_count": 11,
     "metadata": {},
     "output_type": "execute_result"
    }
   ],
   "source": [
    "fiza"
   ]
  },
  {
   "cell_type": "code",
   "execution_count": 12,
   "id": "ab81b858-1de5-40cd-90b3-0111240db052",
   "metadata": {},
   "outputs": [
    {
     "data": {
      "text/plain": [
       "int"
      ]
     },
     "execution_count": 12,
     "metadata": {},
     "output_type": "execute_result"
    }
   ],
   "source": [
    "type(fiza)"
   ]
  },
  {
   "cell_type": "code",
   "execution_count": 13,
   "id": "89275d15-a8ba-4f82-8099-34991c4b2a2d",
   "metadata": {},
   "outputs": [],
   "source": [
    "d = True"
   ]
  },
  {
   "cell_type": "code",
   "execution_count": 14,
   "id": "f500efa2-e7ed-4b0c-8e8a-857079569169",
   "metadata": {},
   "outputs": [
    {
     "data": {
      "text/plain": [
       "bool"
      ]
     },
     "execution_count": 14,
     "metadata": {},
     "output_type": "execute_result"
    }
   ],
   "source": [
    "type(d)"
   ]
  },
  {
   "cell_type": "code",
   "execution_count": 17,
   "id": "965a78f9-0b6c-4820-bfa3-f153ef717dcc",
   "metadata": {},
   "outputs": [],
   "source": [
    "e = False"
   ]
  },
  {
   "cell_type": "code",
   "execution_count": 18,
   "id": "0fa39c7f-fb9f-4ea6-9fab-db5f9e9354bd",
   "metadata": {},
   "outputs": [
    {
     "data": {
      "text/plain": [
       "bool"
      ]
     },
     "execution_count": 18,
     "metadata": {},
     "output_type": "execute_result"
    }
   ],
   "source": [
    "type(e)"
   ]
  },
  {
   "cell_type": "code",
   "execution_count": 19,
   "id": "3d06ade0-8e4d-494e-8d48-5894a9641577",
   "metadata": {},
   "outputs": [
    {
     "data": {
      "text/plain": [
       "1"
      ]
     },
     "execution_count": 19,
     "metadata": {},
     "output_type": "execute_result"
    }
   ],
   "source": [
    "True + False"
   ]
  },
  {
   "cell_type": "code",
   "execution_count": 20,
   "id": "aba4de2c-c431-48c5-8d0d-160112539089",
   "metadata": {},
   "outputs": [
    {
     "data": {
      "text/plain": [
       "1"
      ]
     },
     "execution_count": 20,
     "metadata": {},
     "output_type": "execute_result"
    }
   ],
   "source": [
    "True - False"
   ]
  },
  {
   "cell_type": "code",
   "execution_count": 21,
   "id": "52d5acda-2cdb-416f-9fb2-3690d0c4bc8b",
   "metadata": {},
   "outputs": [
    {
     "data": {
      "text/plain": [
       "0"
      ]
     },
     "execution_count": 21,
     "metadata": {},
     "output_type": "execute_result"
    }
   ],
   "source": [
    "True * False"
   ]
  },
  {
   "cell_type": "code",
   "execution_count": 22,
   "id": "954f8d59-6122-4119-8eda-e5109be4c0b7",
   "metadata": {},
   "outputs": [
    {
     "ename": "ZeroDivisionError",
     "evalue": "division by zero",
     "output_type": "error",
     "traceback": [
      "\u001b[0;31m---------------------------------------------------------------------------\u001b[0m",
      "\u001b[0;31mZeroDivisionError\u001b[0m                         Traceback (most recent call last)",
      "Cell \u001b[0;32mIn[22], line 1\u001b[0m\n\u001b[0;32m----> 1\u001b[0m \u001b[38;5;28;43;01mTrue\u001b[39;49;00m\u001b[43m \u001b[49m\u001b[38;5;241;43m/\u001b[39;49m\u001b[43m \u001b[49m\u001b[38;5;28;43;01mFalse\u001b[39;49;00m\n",
      "\u001b[0;31mZeroDivisionError\u001b[0m: division by zero"
     ]
    }
   ],
   "source": [
    "True / False"
   ]
  },
  {
   "cell_type": "code",
   "execution_count": 23,
   "id": "902b3992-20b2-4103-a914-215114fe5b09",
   "metadata": {},
   "outputs": [],
   "source": [
    "f = 5 + 8j"
   ]
  },
  {
   "cell_type": "code",
   "execution_count": 24,
   "id": "7b5b324a-a60b-4740-85c8-41f504d0721d",
   "metadata": {},
   "outputs": [
    {
     "data": {
      "text/plain": [
       "complex"
      ]
     },
     "execution_count": 24,
     "metadata": {},
     "output_type": "execute_result"
    }
   ],
   "source": [
    "type(f)"
   ]
  },
  {
   "cell_type": "code",
   "execution_count": 25,
   "id": "418687e2-9d1f-4649-b3c3-91f1eb58fddc",
   "metadata": {},
   "outputs": [],
   "source": [
    "f = 5 + 4j"
   ]
  },
  {
   "cell_type": "code",
   "execution_count": 26,
   "id": "3042ad43-8238-41d9-aa5e-1fdfb0e63c8c",
   "metadata": {},
   "outputs": [
    {
     "data": {
      "text/plain": [
       "complex"
      ]
     },
     "execution_count": 26,
     "metadata": {},
     "output_type": "execute_result"
    }
   ],
   "source": [
    "type(f)"
   ]
  },
  {
   "cell_type": "code",
   "execution_count": 27,
   "id": "7e5cc44a-712e-4ef0-b0a0-866949da14c4",
   "metadata": {},
   "outputs": [
    {
     "data": {
      "text/plain": [
       "5.0"
      ]
     },
     "execution_count": 27,
     "metadata": {},
     "output_type": "execute_result"
    }
   ],
   "source": [
    "f.real"
   ]
  },
  {
   "cell_type": "code",
   "execution_count": 28,
   "id": "88b782e6-2576-44d8-9a52-b74bfff2a6d5",
   "metadata": {},
   "outputs": [
    {
     "data": {
      "text/plain": [
       "4.0"
      ]
     },
     "execution_count": 28,
     "metadata": {},
     "output_type": "execute_result"
    }
   ],
   "source": [
    "f.imag"
   ]
  },
  {
   "cell_type": "code",
   "execution_count": 29,
   "id": "0fddc5eb-b836-4f25-a9be-4597eae2b2ce",
   "metadata": {},
   "outputs": [],
   "source": [
    "f = \"fiza\""
   ]
  },
  {
   "cell_type": "code",
   "execution_count": 30,
   "id": "5cf8577d-1cb2-42f7-975a-fe8048edca53",
   "metadata": {},
   "outputs": [
    {
     "data": {
      "text/plain": [
       "'fiza'"
      ]
     },
     "execution_count": 30,
     "metadata": {},
     "output_type": "execute_result"
    }
   ],
   "source": [
    "f"
   ]
  },
  {
   "cell_type": "code",
   "execution_count": null,
   "id": "0980f2ef-ce51-472e-aca1-cd3d9238f5af",
   "metadata": {},
   "outputs": [],
   "source": []
  }
 ],
 "metadata": {
  "kernelspec": {
   "display_name": "Python 3 (ipykernel)",
   "language": "python",
   "name": "python3"
  },
  "language_info": {
   "codemirror_mode": {
    "name": "ipython",
    "version": 3
   },
   "file_extension": ".py",
   "mimetype": "text/x-python",
   "name": "python",
   "nbconvert_exporter": "python",
   "pygments_lexer": "ipython3",
   "version": "3.10.8"
  }
 },
 "nbformat": 4,
 "nbformat_minor": 5
}
