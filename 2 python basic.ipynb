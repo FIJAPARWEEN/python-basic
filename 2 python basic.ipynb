{
 "cells": [
  {
   "cell_type": "code",
   "execution_count": 1,
   "id": "9cdea979-51ca-4d49-bbc9-39c1999c92b9",
   "metadata": {},
   "outputs": [
    {
     "data": {
      "text/plain": [
       "2"
      ]
     },
     "execution_count": 1,
     "metadata": {},
     "output_type": "execute_result"
    }
   ],
   "source": [
    "1 + 1"
   ]
  },
  {
   "cell_type": "code",
   "execution_count": 2,
   "id": "c2b359a0-0324-435f-98c9-599473e030c2",
   "metadata": {},
   "outputs": [
    {
     "data": {
      "text/plain": [
       "13"
      ]
     },
     "execution_count": 2,
     "metadata": {},
     "output_type": "execute_result"
    }
   ],
   "source": [
    "5 +8"
   ]
  },
  {
   "cell_type": "code",
   "execution_count": 3,
   "id": "8a86d1a6-78a0-4481-a9eb-b4235c2c218e",
   "metadata": {},
   "outputs": [],
   "source": [
    "a = 1"
   ]
  },
  {
   "cell_type": "code",
   "execution_count": 4,
   "id": "43dd6f48-1838-416a-863a-94f05aab65fc",
   "metadata": {},
   "outputs": [
    {
     "data": {
      "text/plain": [
       "1"
      ]
     },
     "execution_count": 4,
     "metadata": {},
     "output_type": "execute_result"
    }
   ],
   "source": [
    "a"
   ]
  },
  {
   "cell_type": "code",
   "execution_count": 5,
   "id": "dc02a690-01ba-4174-b6dd-b0acfe613942",
   "metadata": {},
   "outputs": [
    {
     "data": {
      "text/plain": [
       "int"
      ]
     },
     "execution_count": 5,
     "metadata": {},
     "output_type": "execute_result"
    }
   ],
   "source": [
    "type(a)"
   ]
  },
  {
   "cell_type": "code",
   "execution_count": 6,
   "id": "049f245a-cee5-4b1f-afc9-7572c7bc8c9f",
   "metadata": {},
   "outputs": [],
   "source": [
    "b = \"fiza\""
   ]
  },
  {
   "cell_type": "code",
   "execution_count": 7,
   "id": "77ff90b5-ebd8-445a-9a1d-2910350a6a87",
   "metadata": {},
   "outputs": [
    {
     "data": {
      "text/plain": [
       "str"
      ]
     },
     "execution_count": 7,
     "metadata": {},
     "output_type": "execute_result"
    }
   ],
   "source": [
    "type(b)"
   ]
  },
  {
   "cell_type": "code",
   "execution_count": 8,
   "id": "02bb1b30-b2c3-4fcf-889f-0e87f245d0ce",
   "metadata": {},
   "outputs": [],
   "source": [
    "c = 45.1454"
   ]
  },
  {
   "cell_type": "code",
   "execution_count": 9,
   "id": "01df342d-60ae-4a93-bd4e-3044184acb50",
   "metadata": {},
   "outputs": [
    {
     "data": {
      "text/plain": [
       "float"
      ]
     },
     "execution_count": 9,
     "metadata": {},
     "output_type": "execute_result"
    }
   ],
   "source": [
    "type(c)"
   ]
  },
  {
   "cell_type": "code",
   "execution_count": 10,
   "id": "f71e5165-affe-42fb-a44a-03bba667f444",
   "metadata": {},
   "outputs": [],
   "source": [
    "fiza = 8252"
   ]
  },
  {
   "cell_type": "code",
   "execution_count": 11,
   "id": "e452d15c-5427-4024-ab5f-8148a3f93123",
   "metadata": {},
   "outputs": [
    {
     "data": {
      "text/plain": [
       "8252"
      ]
     },
     "execution_count": 11,
     "metadata": {},
     "output_type": "execute_result"
    }
   ],
   "source": [
    "fiza"
   ]
  },
  {
   "cell_type": "code",
   "execution_count": 12,
   "id": "ab81b858-1de5-40cd-90b3-0111240db052",
   "metadata": {},
   "outputs": [
    {
     "data": {
      "text/plain": [
       "int"
      ]
     },
     "execution_count": 12,
     "metadata": {},
     "output_type": "execute_result"
    }
   ],
   "source": [
    "type(fiza)"
   ]
  },
  {
   "cell_type": "code",
   "execution_count": 13,
   "id": "89275d15-a8ba-4f82-8099-34991c4b2a2d",
   "metadata": {},
   "outputs": [],
   "source": [
    "d = True"
   ]
  },
  {
   "cell_type": "code",
   "execution_count": 14,
   "id": "f500efa2-e7ed-4b0c-8e8a-857079569169",
   "metadata": {},
   "outputs": [
    {
     "data": {
      "text/plain": [
       "bool"
      ]
     },
     "execution_count": 14,
     "metadata": {},
     "output_type": "execute_result"
    }
   ],
   "source": [
    "type(d)"
   ]
  },
  {
   "cell_type": "code",
   "execution_count": 17,
   "id": "965a78f9-0b6c-4820-bfa3-f153ef717dcc",
   "metadata": {},
   "outputs": [],
   "source": [
    "e = False"
   ]
  },
  {
   "cell_type": "code",
   "execution_count": 18,
   "id": "0fa39c7f-fb9f-4ea6-9fab-db5f9e9354bd",
   "metadata": {},
   "outputs": [
    {
     "data": {
      "text/plain": [
       "bool"
      ]
     },
     "execution_count": 18,
     "metadata": {},
     "output_type": "execute_result"
    }
   ],
   "source": [
    "type(e)"
   ]
  },
  {
   "cell_type": "code",
   "execution_count": 19,
   "id": "3d06ade0-8e4d-494e-8d48-5894a9641577",
   "metadata": {},
   "outputs": [
    {
     "data": {
      "text/plain": [
       "1"
      ]
     },
     "execution_count": 19,
     "metadata": {},
     "output_type": "execute_result"
    }
   ],
   "source": [
    "True + False"
   ]
  },
  {
   "cell_type": "code",
   "execution_count": 20,
   "id": "aba4de2c-c431-48c5-8d0d-160112539089",
   "metadata": {},
   "outputs": [
    {
     "data": {
      "text/plain": [
       "1"
      ]
     },
     "execution_count": 20,
     "metadata": {},
     "output_type": "execute_result"
    }
   ],
   "source": [
    "True - False"
   ]
  },
  {
   "cell_type": "code",
   "execution_count": 21,
   "id": "52d5acda-2cdb-416f-9fb2-3690d0c4bc8b",
   "metadata": {},
   "outputs": [
    {
     "data": {
      "text/plain": [
       "0"
      ]
     },
     "execution_count": 21,
     "metadata": {},
     "output_type": "execute_result"
    }
   ],
   "source": [
    "True * False"
   ]
  },
  {
   "cell_type": "code",
   "execution_count": 22,
   "id": "954f8d59-6122-4119-8eda-e5109be4c0b7",
   "metadata": {},
   "outputs": [
    {
     "ename": "ZeroDivisionError",
     "evalue": "division by zero",
     "output_type": "error",
     "traceback": [
      "\u001b[0;31m---------------------------------------------------------------------------\u001b[0m",
      "\u001b[0;31mZeroDivisionError\u001b[0m                         Traceback (most recent call last)",
      "Cell \u001b[0;32mIn[22], line 1\u001b[0m\n\u001b[0;32m----> 1\u001b[0m \u001b[38;5;28;43;01mTrue\u001b[39;49;00m\u001b[43m \u001b[49m\u001b[38;5;241;43m/\u001b[39;49m\u001b[43m \u001b[49m\u001b[38;5;28;43;01mFalse\u001b[39;49;00m\n",
      "\u001b[0;31mZeroDivisionError\u001b[0m: division by zero"
     ]
    }
   ],
   "source": [
    "True / False"
   ]
  },
  {
   "cell_type": "code",
   "execution_count": 23,
   "id": "902b3992-20b2-4103-a914-215114fe5b09",
   "metadata": {},
   "outputs": [],
   "source": [
    "f = 5 + 8j"
   ]
  },
  {
   "cell_type": "code",
   "execution_count": 24,
   "id": "7b5b324a-a60b-4740-85c8-41f504d0721d",
   "metadata": {},
   "outputs": [
    {
     "data": {
      "text/plain": [
       "complex"
      ]
     },
     "execution_count": 24,
     "metadata": {},
     "output_type": "execute_result"
    }
   ],
   "source": [
    "type(f)"
   ]
  },
  {
   "cell_type": "code",
   "execution_count": 25,
   "id": "418687e2-9d1f-4649-b3c3-91f1eb58fddc",
   "metadata": {},
   "outputs": [],
   "source": [
    "f = 5 + 4j"
   ]
  },
  {
   "cell_type": "code",
   "execution_count": 26,
   "id": "3042ad43-8238-41d9-aa5e-1fdfb0e63c8c",
   "metadata": {},
   "outputs": [
    {
     "data": {
      "text/plain": [
       "complex"
      ]
     },
     "execution_count": 26,
     "metadata": {},
     "output_type": "execute_result"
    }
   ],
   "source": [
    "type(f)"
   ]
  },
  {
   "cell_type": "code",
   "execution_count": 27,
   "id": "7e5cc44a-712e-4ef0-b0a0-866949da14c4",
   "metadata": {},
   "outputs": [
    {
     "data": {
      "text/plain": [
       "5.0"
      ]
     },
     "execution_count": 27,
     "metadata": {},
     "output_type": "execute_result"
    }
   ],
   "source": [
    "f.real"
   ]
  },
  {
   "cell_type": "code",
   "execution_count": 28,
   "id": "88b782e6-2576-44d8-9a52-b74bfff2a6d5",
   "metadata": {},
   "outputs": [
    {
     "data": {
      "text/plain": [
       "4.0"
      ]
     },
     "execution_count": 28,
     "metadata": {},
     "output_type": "execute_result"
    }
   ],
   "source": [
    "f.imag"
   ]
  },
  {
   "cell_type": "code",
   "execution_count": 29,
   "id": "0fddc5eb-b836-4f25-a9be-4597eae2b2ce",
   "metadata": {},
   "outputs": [],
   "source": [
    "f = \"fiza\""
   ]
  },
  {
   "cell_type": "code",
   "execution_count": 31,
   "id": "5cf8577d-1cb2-42f7-975a-fe8048edca53",
   "metadata": {},
   "outputs": [
    {
     "data": {
      "text/plain": [
       "'fiza'"
      ]
     },
     "execution_count": 31,
     "metadata": {},
     "output_type": "execute_result"
    }
   ],
   "source": [
    "f"
   ]
  },
  {
   "cell_type": "code",
   "execution_count": 32,
   "id": "e44d5ed5-93ca-4891-a6c2-f5120b741e98",
   "metadata": {},
   "outputs": [
    {
     "name": "stdout",
     "output_type": "stream",
     "text": [
      "my name is fiza parween\n"
     ]
    }
   ],
   "source": [
    "print (\"my name is fiza parween\")"
   ]
  },
  {
   "cell_type": "code",
   "execution_count": 33,
   "id": "8ee26aa0-9c6a-43b3-99ec-f33b3d612ea9",
   "metadata": {},
   "outputs": [],
   "source": [
    "p = \"pwskills\""
   ]
  },
  {
   "cell_type": "code",
   "execution_count": 34,
   "id": "b73d08ee-7f77-4974-a36f-1a3a8efe2733",
   "metadata": {},
   "outputs": [
    {
     "data": {
      "text/plain": [
       "'pwskills'"
      ]
     },
     "execution_count": 34,
     "metadata": {},
     "output_type": "execute_result"
    }
   ],
   "source": [
    "p"
   ]
  },
  {
   "cell_type": "code",
   "execution_count": 35,
   "id": "94c509cf-406e-4f63-b2f3-04e552f7a09b",
   "metadata": {},
   "outputs": [
    {
     "data": {
      "text/plain": [
       "str"
      ]
     },
     "execution_count": 35,
     "metadata": {},
     "output_type": "execute_result"
    }
   ],
   "source": [
    "type(p)"
   ]
  },
  {
   "cell_type": "code",
   "execution_count": 36,
   "id": "3f7dfde0-9c27-4fad-8249-44b91f9cf665",
   "metadata": {},
   "outputs": [
    {
     "data": {
      "text/plain": [
       "'p'"
      ]
     },
     "execution_count": 36,
     "metadata": {},
     "output_type": "execute_result"
    }
   ],
   "source": [
    "p[0]"
   ]
  },
  {
   "cell_type": "code",
   "execution_count": 37,
   "id": "c9c7128f-3bd5-427f-9424-965b3144503e",
   "metadata": {},
   "outputs": [
    {
     "data": {
      "text/plain": [
       "'s'"
      ]
     },
     "execution_count": 37,
     "metadata": {},
     "output_type": "execute_result"
    }
   ],
   "source": [
    "p[2]"
   ]
  },
  {
   "cell_type": "code",
   "execution_count": 38,
   "id": "cb68e2dc-37fb-4fe9-9bd0-40b7418d2891",
   "metadata": {},
   "outputs": [
    {
     "data": {
      "text/plain": [
       "'pws'"
      ]
     },
     "execution_count": 38,
     "metadata": {},
     "output_type": "execute_result"
    }
   ],
   "source": [
    "p[0:3]"
   ]
  },
  {
   "cell_type": "code",
   "execution_count": 39,
   "id": "35c40be2-c201-4a23-b46f-3ad4c2982246",
   "metadata": {},
   "outputs": [
    {
     "data": {
      "text/plain": [
       "'k'"
      ]
     },
     "execution_count": 39,
     "metadata": {},
     "output_type": "execute_result"
    }
   ],
   "source": [
    "p[3]"
   ]
  },
  {
   "cell_type": "code",
   "execution_count": 40,
   "id": "897e6b22-6635-4749-b385-e99afbfdef1c",
   "metadata": {},
   "outputs": [
    {
     "data": {
      "text/plain": [
       "'s'"
      ]
     },
     "execution_count": 40,
     "metadata": {},
     "output_type": "execute_result"
    }
   ],
   "source": [
    "p[-1]"
   ]
  },
  {
   "cell_type": "code",
   "execution_count": 41,
   "id": "d5eee6f8-95b8-4a6e-9cae-86a4161023c5",
   "metadata": {},
   "outputs": [
    {
     "data": {
      "text/plain": [
       "'i'"
      ]
     },
     "execution_count": 41,
     "metadata": {},
     "output_type": "execute_result"
    }
   ],
   "source": [
    "p[-4]"
   ]
  },
  {
   "cell_type": "code",
   "execution_count": 42,
   "id": "1a556ccf-1255-428e-aa1e-f176956bac3b",
   "metadata": {},
   "outputs": [
    {
     "data": {
      "text/plain": [
       "'pwskills'"
      ]
     },
     "execution_count": 42,
     "metadata": {},
     "output_type": "execute_result"
    }
   ],
   "source": [
    "p[0:8]"
   ]
  },
  {
   "cell_type": "code",
   "execution_count": 43,
   "id": "9921128d-af5e-4e4b-90d2-106b1b071af5",
   "metadata": {},
   "outputs": [
    {
     "data": {
      "text/plain": [
       "'p'"
      ]
     },
     "execution_count": 43,
     "metadata": {},
     "output_type": "execute_result"
    }
   ],
   "source": [
    "p[-8]"
   ]
  },
  {
   "cell_type": "code",
   "execution_count": 44,
   "id": "dc07a4e6-aabd-4df0-9aa4-910072b5a8e3",
   "metadata": {},
   "outputs": [
    {
     "data": {
      "text/plain": [
       "'k'"
      ]
     },
     "execution_count": 44,
     "metadata": {},
     "output_type": "execute_result"
    }
   ],
   "source": [
    "p[-5]"
   ]
  },
  {
   "cell_type": "code",
   "execution_count": 45,
   "id": "9fe1d110-ee01-4bd2-a344-fca9a7316a68",
   "metadata": {},
   "outputs": [
    {
     "data": {
      "text/plain": [
       "'s'"
      ]
     },
     "execution_count": 45,
     "metadata": {},
     "output_type": "execute_result"
    }
   ],
   "source": [
    "p[2]"
   ]
  },
  {
   "cell_type": "code",
   "execution_count": 46,
   "id": "7bfae33c-9546-404b-b66d-f86fc9bee8d9",
   "metadata": {},
   "outputs": [
    {
     "data": {
      "text/plain": [
       "'psil'"
      ]
     },
     "execution_count": 46,
     "metadata": {},
     "output_type": "execute_result"
    }
   ],
   "source": [
    "p[0:8:2]"
   ]
  },
  {
   "cell_type": "code",
   "execution_count": 47,
   "id": "f1b07701-1818-43f8-8479-af8b2c1e74de",
   "metadata": {},
   "outputs": [
    {
     "data": {
      "text/plain": [
       "'psil'"
      ]
     },
     "execution_count": 47,
     "metadata": {},
     "output_type": "execute_result"
    }
   ],
   "source": [
    "p[::2]"
   ]
  },
  {
   "cell_type": "code",
   "execution_count": 48,
   "id": "4adfeac8-a560-4273-9715-9ae73e3ca9c6",
   "metadata": {},
   "outputs": [
    {
     "data": {
      "text/plain": [
       "'sllikswp'"
      ]
     },
     "execution_count": 48,
     "metadata": {},
     "output_type": "execute_result"
    }
   ],
   "source": [
    "p[::-1]"
   ]
  },
  {
   "cell_type": "code",
   "execution_count": 49,
   "id": "0a6d0d4a-5c22-4626-8061-5afda3e6b32d",
   "metadata": {},
   "outputs": [
    {
     "data": {
      "text/plain": [
       "'pwsk'"
      ]
     },
     "execution_count": 49,
     "metadata": {},
     "output_type": "execute_result"
    }
   ],
   "source": [
    "p[0:4:1]"
   ]
  },
  {
   "cell_type": "code",
   "execution_count": 50,
   "id": "826e647d-8b22-49a7-bd99-a924bf126fb9",
   "metadata": {},
   "outputs": [
    {
     "data": {
      "text/plain": [
       "'sil'"
      ]
     },
     "execution_count": 50,
     "metadata": {},
     "output_type": "execute_result"
    }
   ],
   "source": [
    "p[2::2]"
   ]
  },
  {
   "cell_type": "code",
   "execution_count": 51,
   "id": "5142aa3c-beb7-4fda-a0c6-d18f9580bac6",
   "metadata": {},
   "outputs": [
    {
     "data": {
      "text/plain": [
       "''"
      ]
     },
     "execution_count": 51,
     "metadata": {},
     "output_type": "execute_result"
    }
   ],
   "source": [
    "p[2:7:-1]"
   ]
  },
  {
   "cell_type": "code",
   "execution_count": 52,
   "id": "d4fa6b89-b75c-4447-908f-dfb4f527f15d",
   "metadata": {},
   "outputs": [
    {
     "data": {
      "text/plain": [
       "''"
      ]
     },
     "execution_count": 52,
     "metadata": {},
     "output_type": "execute_result"
    }
   ],
   "source": [
    "p[8:0]"
   ]
  },
  {
   "cell_type": "code",
   "execution_count": 53,
   "id": "62a6ba8e-bd15-4769-8ca3-a03fc6c4176c",
   "metadata": {},
   "outputs": [
    {
     "data": {
      "text/plain": [
       "'llikswp'"
      ]
     },
     "execution_count": 53,
     "metadata": {},
     "output_type": "execute_result"
    }
   ],
   "source": [
    "p[-2::-1]"
   ]
  },
  {
   "cell_type": "code",
   "execution_count": 54,
   "id": "cab49ff3-0f92-4d12-91d8-42bc116f0c0a",
   "metadata": {},
   "outputs": [],
   "source": [
    "s1 = \"this is my string class\""
   ]
  },
  {
   "cell_type": "code",
   "execution_count": 55,
   "id": "2678c5a5-23db-4f6b-900f-c9309074c582",
   "metadata": {},
   "outputs": [
    {
     "data": {
      "text/plain": [
       "23"
      ]
     },
     "execution_count": 55,
     "metadata": {},
     "output_type": "execute_result"
    }
   ],
   "source": [
    "len(s1)"
   ]
  },
  {
   "cell_type": "code",
   "execution_count": 56,
   "id": "0c90d976-ad87-43e0-896c-a8d6a76ddaf3",
   "metadata": {},
   "outputs": [
    {
     "data": {
      "text/plain": [
       "3"
      ]
     },
     "execution_count": 56,
     "metadata": {},
     "output_type": "execute_result"
    }
   ],
   "source": [
    "s1.find('s')"
   ]
  },
  {
   "cell_type": "code",
   "execution_count": 58,
   "id": "547a144d-aee1-460a-a3c0-37b803d7a74a",
   "metadata": {},
   "outputs": [
    {
     "data": {
      "text/plain": [
       "2"
      ]
     },
     "execution_count": 58,
     "metadata": {},
     "output_type": "execute_result"
    }
   ],
   "source": [
    "s1.find('i')"
   ]
  },
  {
   "cell_type": "code",
   "execution_count": 61,
   "id": "dd294baf-9c95-41e8-8544-c091ec513025",
   "metadata": {},
   "outputs": [
    {
     "data": {
      "text/plain": [
       "2"
      ]
     },
     "execution_count": 61,
     "metadata": {},
     "output_type": "execute_result"
    }
   ],
   "source": [
    "s1.find('is')"
   ]
  },
  {
   "cell_type": "code",
   "execution_count": 63,
   "id": "3194c0ba-e671-4bc5-b8f3-a6d289c8be80",
   "metadata": {},
   "outputs": [
    {
     "data": {
      "text/plain": [
       "5"
      ]
     },
     "execution_count": 63,
     "metadata": {},
     "output_type": "execute_result"
    }
   ],
   "source": [
    "s1.count('s')"
   ]
  },
  {
   "cell_type": "code",
   "execution_count": 64,
   "id": "360668c2-dc63-479b-b380-5132f67495eb",
   "metadata": {},
   "outputs": [
    {
     "data": {
      "text/plain": [
       "1"
      ]
     },
     "execution_count": 64,
     "metadata": {},
     "output_type": "execute_result"
    }
   ],
   "source": [
    "s1.count('st')"
   ]
  },
  {
   "cell_type": "code",
   "execution_count": 65,
   "id": "5aca1399-f987-4f3f-8e4e-0b2d5a9fdf9e",
   "metadata": {},
   "outputs": [
    {
     "data": {
      "text/plain": [
       "0"
      ]
     },
     "execution_count": 65,
     "metadata": {},
     "output_type": "execute_result"
    }
   ],
   "source": [
    "s1.count('z')"
   ]
  },
  {
   "cell_type": "code",
   "execution_count": 66,
   "id": "3231758d-c130-4fff-8b28-0e4a10e77e21",
   "metadata": {},
   "outputs": [
    {
     "data": {
      "text/plain": [
       "'THIS IS MY STRING CLASS'"
      ]
     },
     "execution_count": 66,
     "metadata": {},
     "output_type": "execute_result"
    }
   ],
   "source": [
    "s1.upper()"
   ]
  },
  {
   "cell_type": "code",
   "execution_count": 68,
   "id": "d1bed7e4-4859-44d7-a31e-2c8f5de72ab7",
   "metadata": {},
   "outputs": [
    {
     "data": {
      "text/plain": [
       "'this is my string class'"
      ]
     },
     "execution_count": 68,
     "metadata": {},
     "output_type": "execute_result"
    }
   ],
   "source": [
    "s1.lower()"
   ]
  },
  {
   "cell_type": "code",
   "execution_count": 69,
   "id": "c5ea99f7-0586-464a-8e1b-b663f986f3fb",
   "metadata": {},
   "outputs": [
    {
     "data": {
      "text/plain": [
       "'This Is My String Class'"
      ]
     },
     "execution_count": 69,
     "metadata": {},
     "output_type": "execute_result"
    }
   ],
   "source": [
    "s1.title()"
   ]
  },
  {
   "cell_type": "code",
   "execution_count": 70,
   "id": "c522845b-07e2-4b25-abb2-a8b50e929f12",
   "metadata": {},
   "outputs": [
    {
     "data": {
      "text/plain": [
       "'This is my string class'"
      ]
     },
     "execution_count": 70,
     "metadata": {},
     "output_type": "execute_result"
    }
   ],
   "source": [
    "s1.capitalize()"
   ]
  },
  {
   "cell_type": "code",
   "execution_count": 76,
   "id": "50624cbb-ad8f-4182-a20c-a312d057c371",
   "metadata": {},
   "outputs": [
    {
     "data": {
      "text/plain": [
       "[5252, 4545]"
      ]
     },
     "execution_count": 76,
     "metadata": {},
     "output_type": "execute_result"
    }
   ],
   "source": [
    "[5252] + [4545]"
   ]
  },
  {
   "cell_type": "code",
   "execution_count": 84,
   "id": "82a8eaac-85d6-43fd-b767-800407650403",
   "metadata": {},
   "outputs": [
    {
     "data": {
      "text/plain": [
       "\"don't do copy and paste in my class\""
      ]
     },
     "execution_count": 84,
     "metadata": {},
     "output_type": "execute_result"
    }
   ],
   "source": [
    "\"don't do copy and paste in my class\""
   ]
  },
  {
   "cell_type": "code",
   "execution_count": 85,
   "id": "684da282-9165-4e15-be55-48799dea814e",
   "metadata": {},
   "outputs": [
    {
     "data": {
      "text/plain": [
       "'don\"t do copy and paste in my class'"
      ]
     },
     "execution_count": 85,
     "metadata": {},
     "output_type": "execute_result"
    }
   ],
   "source": [
    "'don\"t do copy and paste in my class'"
   ]
  },
  {
   "cell_type": "code",
   "execution_count": 86,
   "id": "94ec5844-65e8-4e30-b9ec-fd689b6679f9",
   "metadata": {},
   "outputs": [],
   "source": [
    "##this is a code to find character of sub string in string "
   ]
  },
  {
   "cell_type": "code",
   "execution_count": null,
   "id": "06c7644e-653f-4d48-a183-680805af2dbc",
   "metadata": {},
   "outputs": [],
   "source": [
    "\"\"\"Python is a versatile and widely-used high-level programming language \n",
    "  known for its simplicity and readability. It was created by Guido van Rossum\n",
    "  and first released in 1991. Python emphasizes code readability and ease of use, \n",
    "  which makes it an excellent choice for beginners and experienced programmers alike\"\"\""
   ]
  }
 ],
 "metadata": {
  "kernelspec": {
   "display_name": "Python 3 (ipykernel)",
   "language": "python",
   "name": "python3"
  },
  "language_info": {
   "codemirror_mode": {
    "name": "ipython",
    "version": 3
   },
   "file_extension": ".py",
   "mimetype": "text/x-python",
   "name": "python",
   "nbconvert_exporter": "python",
   "pygments_lexer": "ipython3",
   "version": "3.10.8"
  }
 },
 "nbformat": 4,
 "nbformat_minor": 5
}
